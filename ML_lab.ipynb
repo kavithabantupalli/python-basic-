{
  "nbformat": 4,
  "nbformat_minor": 0,
  "metadata": {
    "colab": {
      "provenance": [],
      "include_colab_link": true
    },
    "kernelspec": {
      "name": "python3",
      "display_name": "Python 3"
    },
    "language_info": {
      "name": "python"
    }
  },
  "cells": [
    {
      "cell_type": "markdown",
      "metadata": {
        "id": "view-in-github",
        "colab_type": "text"
      },
      "source": [
        "<a href=\"https://colab.research.google.com/github/kavithabantupalli/python-basic-/blob/main/ML_lab.ipynb\" target=\"_parent\"><img src=\"https://colab.research.google.com/assets/colab-badge.svg\" alt=\"Open In Colab\"/></a>"
      ]
    },
    {
      "cell_type": "code",
      "execution_count": null,
      "metadata": {
        "colab": {
          "base_uri": "https://localhost:8080/"
        },
        "id": "1vBmaFCVLC0I",
        "outputId": "973339ce-d30a-4c85-8882-c74550123e60"
      },
      "outputs": [
        {
          "output_type": "stream",
          "name": "stdout",
          "text": [
            "mean/average_is:  3.0\n"
          ]
        }
      ],
      "source": [
        "##1a question\n",
        "#python program to print\n",
        "#mean of elements\n",
        "#list of elements to calculate mean\n",
        "n_num ={1,2,3,4,5}\n",
        "n=len(n_num)\n",
        "get_sum=sum(n_num)\n",
        "mean=get_sum/n\n",
        "print(\"mean/average_is: \",mean)"
      ]
    },
    {
      "cell_type": "code",
      "source": [
        "from typing import no_type_check\n",
        "##1b\n",
        "# list of elements to calculate median\n",
        "n_num=[1,2,3,4,5,6]\n",
        "n=len(n_num)\n",
        "n_num.sort()\n",
        "if n % 2 ==0:\n",
        "  median1= n_num[n//2] #//n_num[3]---4\n",
        "  median2= n_num[n//2-1]#//n_num[2]----3\n",
        "  median = (median1 + median2)/2 #(4+3)/2   #(+ for concatination)\n",
        "else:\n",
        "  median =n_num[n/2]//n_num[2]\n",
        "print(\"Median is: \"+str(median))"
      ],
      "metadata": {
        "colab": {
          "base_uri": "https://localhost:8080/"
        },
        "id": "dCx-nKuUMvPL",
        "outputId": "b58278ca-65d8-47e6-c5c6-ee68b4441e1c"
      },
      "execution_count": null,
      "outputs": [
        {
          "output_type": "stream",
          "name": "stdout",
          "text": [
            "Median is: 3.5\n"
          ]
        }
      ]
    },
    {
      "cell_type": "code",
      "source": [
        "#python  program to print\n",
        "#mode of elements\n",
        "from collections import Counter\n",
        "#list of elements to calculate mode\n",
        "n_num=[1,2,3,4,5,5]\n",
        "n=len(n_num)\n",
        "data=Counter(n_num)\n",
        "print(\"counter\",data)\n",
        "get_mode=dict(data)\n",
        "print(\"get_mode after converting in dict\",get_mode)\n",
        "print(\"get_mode.items()\",get_mode.items())\n",
        "print(\"get_mode.items()\",data.values())\n"
      ],
      "metadata": {
        "id": "Vf_qdEpDQkbU",
        "colab": {
          "base_uri": "https://localhost:8080/"
        },
        "outputId": "d0fdbb65-0b3d-4d92-e331-1d531402b618"
      },
      "execution_count": null,
      "outputs": [
        {
          "output_type": "stream",
          "name": "stdout",
          "text": [
            "counter Counter({5: 2, 1: 1, 2: 1, 3: 1, 4: 1})\n",
            "get_mode after converting in dict {1: 1, 2: 1, 3: 1, 4: 1, 5: 2}\n",
            "get_mode.items() dict_items([(1, 1), (2, 1), (3, 1), (4, 1), (5, 2)])\n",
            "get_mode.items() dict_values([1, 1, 1, 1, 2])\n"
          ]
        }
      ]
    },
    {
      "cell_type": "code",
      "source": [
        "mode=[k for k, v in get_mode.items() if v == max(list(data.values()))]\n",
        "if  len(mode)==n:\n",
        "  get_mode=\"No mode found\"\n",
        "else:\n",
        "  get_mode=\"Mode is / are:\"+ ','.join(map(str,mode))\n",
        "print(get_mode)\n"
      ],
      "metadata": {
        "colab": {
          "base_uri": "https://localhost:8080/"
        },
        "id": "B-s3t1bDQSi2",
        "outputId": "f47debfb-69f2-45d4-b824-b9b7628129e8"
      },
      "execution_count": null,
      "outputs": [
        {
          "output_type": "stream",
          "name": "stdout",
          "text": [
            "Mode is / are:5\n"
          ]
        }
      ]
    },
    {
      "cell_type": "code",
      "source": [
        "#python code to demonstrate the working of\n",
        "#variance() function of statistics module\n",
        "# importing statistics module\n",
        "import statistics\n",
        "#creating a sample of data\n",
        "sample=[2.74, 1.23, 2.63, 2.22, 3, 1.98]\n",
        "print(\"variance of sample set is %s\"%(statistics.variance(sample)))\n"
      ],
      "metadata": {
        "colab": {
          "base_uri": "https://localhost:8080/"
        },
        "id": "_Q4R_TqeSf11",
        "outputId": "2e7cc3f6-a1ac-4b3f-bc5f-d56c869f16d1"
      },
      "execution_count": null,
      "outputs": [
        {
          "output_type": "stream",
          "name": "stdout",
          "text": [
            "variance of sample set is 0.40924000000000005\n"
          ]
        }
      ]
    },
    {
      "cell_type": "code",
      "source": [
        "#stdev()\n",
        "import statistics\n",
        "sample=[1,2,3,4,5]\n",
        "print(\"standard deviation of sample set is %s\"%(statistics.stdev(sample)))"
      ],
      "metadata": {
        "colab": {
          "base_uri": "https://localhost:8080/"
        },
        "id": "E1tSXvnGWK_b",
        "outputId": "fa0a69ec-fbec-438a-ab93-a85e74645859"
      },
      "execution_count": null,
      "outputs": [
        {
          "output_type": "stream",
          "name": "stdout",
          "text": [
            "standard deviation of sample set is 1.5811388300841898\n"
          ]
        }
      ]
    },
    {
      "cell_type": "code",
      "source": [],
      "metadata": {
        "id": "ljqwFjJ6W5QW"
      },
      "execution_count": null,
      "outputs": []
    }
  ]
}